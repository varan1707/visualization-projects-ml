{
  "nbformat": 4,
  "nbformat_minor": 0,
  "metadata": {
    "colab": {
      "provenance": []
    },
    "kernelspec": {
      "name": "python3",
      "display_name": "Python 3"
    },
    "language_info": {
      "name": "python"
    }
  },
  "cells": [
    {
      "cell_type": "code",
      "execution_count": null,
      "metadata": {
        "colab": {
          "base_uri": "https://localhost:8080/"
        },
        "id": "6d27idIJB91w",
        "outputId": "3f662a9b-afb2-424e-f45d-b66705c4c21a"
      },
      "outputs": [
        {
          "output_type": "stream",
          "name": "stdout",
          "text": [
            "Collecting pyforest\n",
            "  Downloading pyforest-1.1.0.tar.gz (15 kB)\n",
            "  Preparing metadata (setup.py) ... \u001b[?25l\u001b[?25hdone\n",
            "Building wheels for collected packages: pyforest\n",
            "  Building wheel for pyforest (setup.py) ... \u001b[?25l\u001b[?25hdone\n",
            "  Created wheel for pyforest: filename=pyforest-1.1.0-py2.py3-none-any.whl size=14605 sha256=4b6d64e71919f3e1e956fbf7156143738809f901eba5b445b81024d50b813411\n",
            "  Stored in directory: /root/.cache/pip/wheels/9e/7d/2c/5d2f5e62de376c386fd3bf5a8e5bd119ace6a9f48f49df6017\n",
            "Successfully built pyforest\n",
            "Installing collected packages: pyforest\n",
            "Successfully installed pyforest-1.1.0\n"
          ]
        }
      ],
      "source": [
        "!pip install pyforest"
      ]
    },
    {
      "cell_type": "code",
      "source": [
        "import pyforest"
      ],
      "metadata": {
        "id": "J2ZCpWl9DCXf"
      },
      "execution_count": null,
      "outputs": []
    },
    {
      "cell_type": "code",
      "source": [
        "lazy_imports() # used to see all the packages that pyforests can import for you."
      ],
      "metadata": {
        "colab": {
          "base_uri": "https://localhost:8080/"
        },
        "id": "HIE2ZOs1Dt5u",
        "outputId": "414e3491-d314-4476-ecaa-d78a7bb34674"
      },
      "execution_count": null,
      "outputs": [
        {
          "output_type": "execute_result",
          "data": {
            "text/plain": [
              "['import statistics',\n",
              " 'from sklearn.preprocessing import OneHotEncoder',\n",
              " 'import numpy as np',\n",
              " 'import pydot',\n",
              " 'from fbprophet import Prophet',\n",
              " 'from sklearn.preprocessing import LabelEncoder',\n",
              " 'from sklearn.model_selection import StratifiedKFold',\n",
              " 'import keras',\n",
              " 'import spacy',\n",
              " 'from sklearn.ensemble import GradientBoostingClassifier',\n",
              " 'import matplotlib.pyplot as plt',\n",
              " 'from sklearn.model_selection import cross_val_score',\n",
              " 'import imutils',\n",
              " 'from sklearn import svm',\n",
              " 'import re',\n",
              " 'from sklearn.preprocessing import StandardScaler',\n",
              " 'import sys',\n",
              " 'from sklearn.linear_model import LassoCV',\n",
              " 'import datetime as dt',\n",
              " 'from sklearn.preprocessing import RobustScaler',\n",
              " 'import tensorflow as tf',\n",
              " 'import plotly.express as px',\n",
              " 'from scipy import stats',\n",
              " 'from sklearn.ensemble import RandomForestClassifier',\n",
              " 'import torch',\n",
              " 'from sklearn import metrics',\n",
              " 'from sklearn.linear_model import Ridge',\n",
              " 'from sklearn.model_selection import GridSearchCV',\n",
              " 'from pyspark import SparkContext',\n",
              " 'from statsmodels.tsa.arima_model import ARIMA',\n",
              " 'import gensim',\n",
              " 'import textblob',\n",
              " 'from sklearn.ensemble import GradientBoostingRegressor',\n",
              " 'from sklearn.feature_extraction.text import CountVectorizer',\n",
              " 'from xlrd import open_workbook',\n",
              " 'import bokeh',\n",
              " 'import plotly as py',\n",
              " 'import fastai',\n",
              " 'import sklearn',\n",
              " 'import altair as alt',\n",
              " 'import pandas as pd',\n",
              " 'import skimage',\n",
              " 'import nltk',\n",
              " 'from scipy import signal as sg',\n",
              " 'from dask import dataframe as dd',\n",
              " 'import awswrangler as wr',\n",
              " 'import seaborn as sns',\n",
              " 'from sklearn.linear_model import LinearRegression',\n",
              " 'from sklearn.ensemble import RandomForestRegressor',\n",
              " 'import tqdm',\n",
              " 'import fbprophet',\n",
              " 'from sklearn.linear_model import ElasticNet',\n",
              " 'from sklearn.cluster import KMeans',\n",
              " 'from sklearn.model_selection import KFold',\n",
              " 'import xgboost as xgb',\n",
              " 'import matplotlib as mpl',\n",
              " 'from sklearn.preprocessing import PolynomialFeatures',\n",
              " 'from sklearn.feature_extraction.text import TfidfVectorizer',\n",
              " 'import os',\n",
              " 'from sklearn.model_selection import RandomizedSearchCV',\n",
              " 'import cv2',\n",
              " 'from pathlib import Path',\n",
              " 'from sklearn.linear_model import ElasticNetCV',\n",
              " 'from sklearn.linear_model import RidgeCV',\n",
              " 'import statsmodels.api as sm',\n",
              " 'from PIL import Image',\n",
              " 'from sklearn.linear_model import LogisticRegression',\n",
              " 'import dash',\n",
              " 'from sklearn.decomposition import PCA',\n",
              " 'import glob',\n",
              " 'from sklearn.linear_model import Lasso',\n",
              " 'from sklearn.preprocessing import MinMaxScaler',\n",
              " 'import pickle',\n",
              " 'import plotly.graph_objs as go',\n",
              " 'from sklearn.impute import SimpleImputer',\n",
              " 'from sklearn.model_selection import train_test_split',\n",
              " 'from sklearn.manifold import TSNE']"
            ]
          },
          "metadata": {},
          "execution_count": 9
        }
      ]
    },
    {
      "cell_type": "code",
      "source": [],
      "metadata": {
        "id": "mWN85gTSD6Zs"
      },
      "execution_count": null,
      "outputs": []
    }
  ]
}